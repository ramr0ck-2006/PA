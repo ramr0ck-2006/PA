{
 "cells": [
  {
   "cell_type": "code",
   "execution_count": null,
   "id": "cc8b34f0",
   "metadata": {},
   "outputs": [
    {
     "name": "stdout",
     "output_type": "stream",
     "text": [
      "The Eiffel Tower is located in PARIS . TAJ MAHAL is a famous monument in INDIA.\n"
     ]
    }
   ],
   "source": [
    "input = \"The Eiffel Tower is located in PARIS . TAJ MAHAL is a famous monument in INDIA.\"\n",
    "print(input)"
   ]
  },
  {
   "cell_type": "code",
   "execution_count": 13,
   "id": "8f990621",
   "metadata": {},
   "outputs": [
    {
     "name": "stdout",
     "output_type": "stream",
     "text": [
      "LOWERCASE =  the eiffel tower is located in paris . taj mahal is a famous monument in india.\n",
      "REGULAR EXP1 =  the eiffel tower is famous in paris . taj mahal is a famous monument in india.\n",
      "REGULAR EXP2 =  the_eiffel_tower_is_located_in_paris_._taj_mahal_is_a_famous_monument_in_india.\n",
      "REGULAR EXP3 =  the eiffel tower is located in paris . taj mahal is a famous monument in india.\n",
      "REGULAR EXP4 =  123 123 123 is located in 123 . 123 123 is a famous monument in 123.\n",
      "WORD TOKENS =  ['The', 'Eiffel', 'Tower', 'is', 'located', 'in', 'PARIS', '.', 'TAJ', 'MAHAL', 'is', 'a', 'famous', 'monument', 'in', 'INDIA', '.']\n",
      "17\n",
      "SENT TOKENS =  ['The Eiffel Tower is located in PARIS .', 'TAJ MAHAL is a famous monument in INDIA.']\n",
      "2\n",
      "The Eiffel Tower located PARIS . TAJ MAHAL famous monument INDIA .\n"
     ]
    }
   ],
   "source": [
    "# Replace all uppercase words with their lowercase equivalents\n",
    "lowercase = input.lower()\n",
    "print(\"LOWERCASE = \", lowercase)\n",
    "\n",
    "#regular expression\n",
    "import re\n",
    "lowercase_re = re.sub('located', 'famous', lowercase)\n",
    "print(\"REGULAR EXP1 = \", lowercase_re)\n",
    "\n",
    "lowercase_re = re.sub(r' ', '_', lowercase)\n",
    "print(\"REGULAR EXP2 = \", lowercase_re)\n",
    "\n",
    "lowercase_re = re.sub('\\d', '*', lowercase)\n",
    "print(\"REGULAR EXP3 = \", lowercase_re)\n",
    "\n",
    "output = re.sub(r'\\b[A-Z][a-zA-Z]*\\b', '123', input)\n",
    "print(\"REGULAR EXP4 = \", output)\n",
    "\n",
    "#(2)Tokenization\n",
    "import nltk\n",
    "\n",
    "from nltk import word_tokenize, sent_tokenize\n",
    "\n",
    "input = \"The Eiffel Tower is located in PARIS . TAJ MAHAL is a famous monument in INDIA.\"\n",
    "\n",
    "word_tokens = word_tokenize(input)\n",
    "print(\"WORD TOKENS = \", word_tokens)\n",
    "print(len(word_tokens))\n",
    "\n",
    "sent_tokens = sent_tokenize(input)\n",
    "print(\"SENT TOKENS = \", sent_tokens)\n",
    "print(len(sent_tokens))\n",
    "\n",
    "#(3)stopwords Removal\n",
    "from nltk.corpus import stopwords\n",
    "#print(stopwords.fileids())\n",
    "stopwords = set(stopwords.words('english'))\n",
    "#print(\"\\n\", stopwords)\n",
    "\n",
    "tokens_stopwords = []\n",
    "for token in word_tokens:\n",
    "    if token not in stopwords:\n",
    "        tokens_stopwords.append(token)\n",
    "print(' '.join(tokens_stopwords))\n",
    "\n",
    "\n",
    "\n"
   ]
  },
  {
   "cell_type": "code",
   "execution_count": null,
   "id": "b23f1597",
   "metadata": {},
   "outputs": [],
   "source": []
  }
 ],
 "metadata": {
  "kernelspec": {
   "display_name": "Python 3",
   "language": "python",
   "name": "python3"
  },
  "language_info": {
   "codemirror_mode": {
    "name": "ipython",
    "version": 3
   },
   "file_extension": ".py",
   "mimetype": "text/x-python",
   "name": "python",
   "nbconvert_exporter": "python",
   "pygments_lexer": "ipython3",
   "version": "3.11.9"
  }
 },
 "nbformat": 4,
 "nbformat_minor": 5
}
